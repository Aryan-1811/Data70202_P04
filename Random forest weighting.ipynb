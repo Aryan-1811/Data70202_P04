{
 "cells": [
  {
   "cell_type": "code",
   "execution_count": 2,
   "id": "548fd4ad-a600-454c-8f14-221a0688353d",
   "metadata": {},
   "outputs": [
    {
     "name": "stdout",
     "output_type": "stream",
     "text": [
      "Columns in Clean_Goods_by_Company:\n",
      "Index(['Unnamed: 0', 'company_name', 'exporter_country', 'importer_country',\n",
      "       'manufacturing_country', 'mentioned_country', 'operates_in_country',\n",
      "       'sourced_from_country', 'goods_mentioned'],\n",
      "      dtype='object')\n",
      "Columns in filtered_merged_child_labor_analysis:\n",
      "Index(['company_id', 'company_name', 'doc_score', 'sectors', 'sub_industries',\n",
      "       'extracted_text', 'country_child_labor_flags', 'child_labor_score_sum'],\n",
      "      dtype='object')\n",
      "Calculated Weights for Countries:\n",
      "producing_countries: 0.1073\n",
      "purchasing_countries: 0.0517\n",
      "importing_countries: 0.7651\n",
      "exporting_countries: 0.0759\n"
     ]
    }
   ],
   "source": [
    "import pandas as pd\n",
    "import numpy as np\n",
    "from sklearn.ensemble import RandomForestRegressor\n",
    "from sklearn.model_selection import train_test_split\n",
    "from sklearn.preprocessing import MinMaxScaler\n",
    "\n",
    "# Read the two data files\n",
    "goods_data = pd.read_csv('Clean_Goods_by_Company.csv')\n",
    "child_labor_data = pd.read_excel('filtered_merged_child_labor_analysis.xlsx')\n",
    "\n",
    "# Print columns to confirm data structure\n",
    "print(\"Columns in Clean_Goods_by_Company:\")\n",
    "print(goods_data.columns)\n",
    "\n",
    "print(\"Columns in filtered_merged_child_labor_analysis:\")\n",
    "print(child_labor_data.columns)\n",
    "\n",
    "# Merge the two DataFrames on 'company_name'\n",
    "merged_data = pd.merge(goods_data, child_labor_data, on='company_name', how='inner')\n",
    "\n",
    "# Create binary indicator columns for existence of country types\n",
    "merged_data['producing_countries'] = merged_data['manufacturing_country'].notna().astype(int)\n",
    "merged_data['purchasing_countries'] = merged_data['sourced_from_country'].notna().astype(int)\n",
    "merged_data['importing_countries'] = merged_data['importer_country'].notna().astype(int)\n",
    "merged_data['exporting_countries'] = merged_data['exporter_country'].notna().astype(int)\n",
    "\n",
    "# Set features (X) and target variable (y)\n",
    "X = merged_data[['producing_countries', 'purchasing_countries', 'importing_countries', 'exporting_countries']]\n",
    "y = merged_data['child_labor_score_sum']  # Ensure the target variable exists\n",
    "\n",
    "# Normalize the feature data\n",
    "scaler = MinMaxScaler()\n",
    "X_scaled = scaler.fit_transform(X)\n",
    "\n",
    "# Split the dataset into training and testing sets\n",
    "X_train, X_test, y_train, y_test = train_test_split(X_scaled, y, test_size=0.2, random_state=42)\n",
    "\n",
    "# Initialize and train the Random Forest regressor\n",
    "model = RandomForestRegressor(n_estimators=100, random_state=42)\n",
    "model.fit(X_train, y_train)\n",
    "\n",
    "# Get feature importances\n",
    "importances = model.feature_importances_\n",
    "\n",
    "# Print the calculated weights for each country type\n",
    "weights = {\n",
    "    'producing_countries': importances[0],\n",
    "    'purchasing_countries': importances[1],\n",
    "    'importing_countries': importances[2],\n",
    "    'exporting_countries': importances[3]\n",
    "}\n",
    "\n",
    "# Output the weights\n",
    "print(\"Calculated Weights for Countries:\")\n",
    "for country_type, weight in weights.items():\n",
    "    print(f\"{country_type}: {weight:.4f}\")\n"
   ]
  },
  {
   "cell_type": "code",
   "execution_count": null,
   "id": "91b4d549-7638-459f-85e9-3bf3c16553f3",
   "metadata": {},
   "outputs": [],
   "source": []
  }
 ],
 "metadata": {
  "kernelspec": {
   "display_name": "Python [conda env:base] *",
   "language": "python",
   "name": "conda-base-py"
  },
  "language_info": {
   "codemirror_mode": {
    "name": "ipython",
    "version": 3
   },
   "file_extension": ".py",
   "mimetype": "text/x-python",
   "name": "python",
   "nbconvert_exporter": "python",
   "pygments_lexer": "ipython3",
   "version": "3.12.7"
  }
 },
 "nbformat": 4,
 "nbformat_minor": 5
}
