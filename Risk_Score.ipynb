{
 "cells": [
  {
   "cell_type": "code",
   "execution_count": 1,
   "id": "3246dc2f",
   "metadata": {},
   "outputs": [],
   "source": [
    "# Import necessary libraries\n",
    "import pandas as pd\n",
    "import numpy as np\n",
    "import re\n",
    "import ast\n",
    "import matplotlib.pyplot as plt"
   ]
  },
  {
   "cell_type": "code",
   "execution_count": 2,
   "id": "3ca66efd",
   "metadata": {},
   "outputs": [],
   "source": [
    "# Load data\n",
    "df_combined = pd.read_excel(\"combined_countries.xlsx\")"
   ]
  },
  {
   "cell_type": "code",
   "execution_count": 3,
   "id": "19d232c9",
   "metadata": {},
   "outputs": [],
   "source": [
    "# Parse list of countries from string\n",
    "\n",
    "df_combined[\"countries_from_text\"] = df_combined[\"countries_from_text\"].apply(\n",
    "    lambda x: ast.literal_eval(x) if isinstance(x, str) else []\n",
    ")\n"
   ]
  },
  {
   "cell_type": "code",
   "execution_count": 4,
   "id": "d9c61af3",
   "metadata": {},
   "outputs": [],
   "source": [
    "# Extract context sentences for each country\n",
    "def extract_country_context(text, country_list):\n",
    "    if pd.isna(text) or not country_list:\n",
    "        return \"\"\n",
    "    sentences = re.split(r'(?<=[.!?])\\s+', text)\n",
    "    context_sentences = [s for s in sentences if any(country in s for country in country_list)]\n",
    "    return \" | \".join(context_sentences)\n",
    "\n",
    "df_combined[\"country_context_sentences\"] = df_combined.apply(\n",
    "    lambda row: extract_country_context(row[\"extracted_text\"], row[\"countries_from_text\"]), axis=1\n",
    ")"
   ]
  },
  {
   "cell_type": "code",
   "execution_count": 5,
   "id": "7d935731",
   "metadata": {},
   "outputs": [],
   "source": [
    "# Explode countries to get one row per (company, country)\n",
    "expanded_df = df_combined.explode(\"countries_from_text\").rename(columns={\"countries_from_text\": \"country\"})"
   ]
  },
  {
   "cell_type": "code",
   "execution_count": 6,
   "id": "18fb94e1",
   "metadata": {},
   "outputs": [],
   "source": [
    "# Inferred relationship logic\n",
    "def final_context_weight(rel):\n",
    "    rel = rel.lower()\n",
    "    if \"sourced from\" in rel or \"manufacturing\" in rel or \"production\" in rel:\n",
    "        return 1.0\n",
    "    elif \"exporter\" in rel:\n",
    "        return 0.8\n",
    "    elif \"operates in\" in rel:\n",
    "        return 0.6\n",
    "    elif \"importer\" in rel:\n",
    "        return 0.1\n",
    "    else:\n",
    "        return 0.1\n"
   ]
  },
  {
   "cell_type": "code",
   "execution_count": 7,
   "id": "25578eb0",
   "metadata": {},
   "outputs": [],
   "source": [
    "def infer_relationship(context, country):\n",
    "    if pd.isna(context):\n",
    "        return \"mentioned\"\n",
    "    sentence = context.lower()\n",
    "    if any(kw in sentence for kw in [\"export\", \"exported\", \"exports\"]):\n",
    "        return f\"{country} is an exporter\"\n",
    "    elif any(kw in sentence for kw in [\"import\", \"imported\", \"imports\"]):\n",
    "        return f\"{country} is an importer\"\n",
    "    elif any(kw in sentence for kw in [\"source\", \"sourced\", \"sourcing\"]):\n",
    "        return f\"Goods are sourced from {country}\"\n",
    "    elif any(kw in sentence for kw in [\"manufacture\", \"manufacturing\", \"produced\", \"production\"]):\n",
    "        return f\"Production or manufacturing in {country}\"\n",
    "    elif any(kw in sentence for kw in [\"operate\", \"operation\", \"presence in\", \"office in\", \"facility in\"]):\n",
    "        return f\"Company operates in {country}\"\n",
    "    else:\n",
    "        return f\"{country} is mentioned\""
   ]
  },
  {
   "cell_type": "code",
   "execution_count": 8,
   "id": "f597514e",
   "metadata": {},
   "outputs": [],
   "source": [
    "expanded_df[\"inferred_relationship\"] = expanded_df.apply(\n",
    "    lambda row: infer_relationship(row[\"country_context_sentences\"], row[\"country\"]), axis=1\n",
    ")\n",
    "expanded_df[\"context_score_raw\"] = expanded_df[\"inferred_relationship\"].apply(final_context_weight)\n"
   ]
  },
  {
   "cell_type": "code",
   "execution_count": 9,
   "id": "b4998be0",
   "metadata": {},
   "outputs": [],
   "source": [
    "# Goods extraction\n",
    "goods_list = {\n",
    "      \"cotton\", \"minerals\", \"gold\", \"tin\", \"tantalum\", \"tobacco\", \"cobalt\", \"electronics\", \"garments\",\n",
    "    \"textiles\", \"apparel\", \"sugar\", \"tea\", \"coffee\", \"coal\", \"oil\", \"gas\", \"rubber\", \"palm oil\",\n",
    "    \"timber\", \"fishing\", \"meat\", \"fabrics\", \"shoes\", \"footwear\", \"leather\", \"furniture\", \"toys\"\n",
    "}"
   ]
  },
  {
   "cell_type": "code",
   "execution_count": 10,
   "id": "d0828a1d",
   "metadata": {},
   "outputs": [],
   "source": [
    "def extract_goods(text):\n",
    "    if pd.isna(text):\n",
    "        return \"\"\n",
    "    found_goods = [word for word in goods_list if word in text.lower()]\n",
    "    return \"; \".join(sorted(set(found_goods)))\n",
    "\n",
    "expanded_df[\"goods_custom\"] = expanded_df[\"country_context_sentences\"].apply(extract_goods)"
   ]
  },
  {
   "cell_type": "code",
   "execution_count": 11,
   "id": "5feded9c",
   "metadata": {},
   "outputs": [],
   "source": [
    "# Frequency score\n",
    "frequency_df = expanded_df.groupby(\"country\")[\"company_name\"].nunique().reset_index()\n",
    "frequency_df.columns = [\"country\", \"mention_count\"]\n",
    "frequency_df[\"frequency_score\"] = frequency_df[\"mention_count\"] / frequency_df[\"mention_count\"].max()"
   ]
  },
  {
   "cell_type": "code",
   "execution_count": 12,
   "id": "41367978",
   "metadata": {},
   "outputs": [],
   "source": [
    "# Context score\n",
    "context_score_df = expanded_df.groupby(\"country\")[\"context_score_raw\"].mean().reset_index()\n",
    "context_score_df.columns = [\"country\", \"context_score\"]\n"
   ]
  },
  {
   "cell_type": "code",
   "execution_count": 13,
   "id": "30ce3bd0",
   "metadata": {},
   "outputs": [],
   "source": [
    "# Goods score\n",
    "goods_score_df = expanded_df[expanded_df[\"goods_custom\"] != \"\"].copy()\n",
    "goods_score_df[\"goods_count\"] = goods_score_df[\"goods_custom\"].apply(lambda x: len(x.split(\"; \")))\n",
    "goods_sum_df = goods_score_df.groupby(\"country\")[\"goods_count\"].sum().reset_index()\n",
    "goods_sum_df[\"goods_score\"] = goods_sum_df[\"goods_count\"] / goods_sum_df[\"goods_count\"].max()\n",
    "goods_sum_df = goods_sum_df[[\"country\", \"goods_score\"]]\n"
   ]
  },
  {
   "cell_type": "code",
   "execution_count": 14,
   "id": "3edd75d6",
   "metadata": {},
   "outputs": [],
   "source": [
    "# Diversity score\n",
    "expanded_df[\"company_size\"] = expanded_df[\"company_size\"].fillna(\"\")\n",
    "expanded_df[\"sectors\"] = expanded_df[\"sectors\"].fillna(\"\")\n",
    "diversity_df = expanded_df.groupby(\"country\").agg({\n",
    "    \"sectors\": lambda x: len(set(sum([s.split(\";\") for s in x if s], []))),\n",
    "    \"company_size\": lambda x: len(set(x))\n",
    "}).reset_index()\n",
    "diversity_df.columns = [\"country\", \"sector_diversity\", \"size_diversity\"]\n",
    "diversity_df[\"diversity_raw\"] = diversity_df[\"sector_diversity\"] + diversity_df[\"size_diversity\"]\n",
    "diversity_df[\"diversity_score\"] = diversity_df[\"diversity_raw\"] / diversity_df[\"diversity_raw\"].max()\n",
    "diversity_df = diversity_df[[\"country\", \"diversity_score\"]]"
   ]
  },
  {
   "cell_type": "code",
   "execution_count": 15,
   "id": "433cbc76",
   "metadata": {},
   "outputs": [],
   "source": [
    "# Sector score\n",
    "sector_weights = {\n",
    "    \"Agriculture\": 1.0,\n",
    "    \"Food & Staples Retailing\": 1.0,\n",
    "    \"Textiles\": 0.9,\n",
    "    \"Apparel\": 0.9,\n",
    "    \"Retailing\": 0.9,\n",
    "    \"Materials\": 0.8,\n",
    "    \"Mining\": 0.8,\n",
    "    \"Consumer Durables\": 0.7,\n",
    "    \"Household Products\": 0.7,\n",
    "    \"Manufacturing\": 0.5,\n",
    "    \"Capital Goods\": 0.5,\n",
    "    \"Energy\": 0.4,\n",
    "    \"Utilities\": 0.4,\n",
    "    \"Technology\": 0.3,\n",
    "    \"Information Technology\": 0.3,\n",
    "    \"Health Care\": 0.2,\n",
    "    \"Pharmaceuticals\": 0.2,\n",
    "    \"Financials\": 0.1,\n",
    "    \"Insurance\": 0.1,\n",
    "    \"Real Estate\": 0.1,\n",
    "    \"Telecommunication Services\": 0.1,\n",
    "    \"Commercial & Professional Services\": 0.1\n",
    "}\n"
   ]
  },
  {
   "cell_type": "code",
   "execution_count": 16,
   "id": "c12826e0",
   "metadata": {},
   "outputs": [],
   "source": [
    "expanded_df[\"sector_list\"] = expanded_df[\"sectors\"].apply(lambda x: [s.strip() for s in x.split(\";\") if s.strip()])\n",
    "sector_exploded = expanded_df.explode(\"sector_list\")\n",
    "sector_exploded[\"sector_score\"] = sector_exploded[\"sector_list\"].map(sector_weights).fillna(0.1)\n",
    "sector_score_df = sector_exploded.groupby(\"country\")[\"sector_score\"].mean().reset_index()\n",
    "sector_score_df.columns = [\"country\", \"sector_score\"]"
   ]
  },
  {
   "cell_type": "code",
   "execution_count": 17,
   "id": "6cb7a1c2",
   "metadata": {},
   "outputs": [],
   "source": [
    "# Merge all scores\n",
    "risk_df = frequency_df.merge(context_score_df, on=\"country\", how=\"outer\")\n",
    "risk_df = risk_df.merge(goods_sum_df, on=\"country\", how=\"outer\")\n",
    "risk_df = risk_df.merge(diversity_df, on=\"country\", how=\"outer\")\n",
    "risk_df = risk_df.merge(sector_score_df, on=\"country\", how=\"outer\")\n",
    "risk_df = risk_df.fillna(0)"
   ]
  },
  {
   "cell_type": "code",
   "execution_count": 18,
   "id": "02f07980",
   "metadata": {},
   "outputs": [],
   "source": [
    "# Final weights\n",
    "weights = {\n",
    "    \"frequency_score\": 0.1,\n",
    "    \"context_score\": 0.35,\n",
    "    \"goods_score\": 0.25,\n",
    "    \"diversity_score\": 0.1,\n",
    "    \"sector_score\": 0.2\n",
    "}"
   ]
  },
  {
   "cell_type": "code",
   "execution_count": 19,
   "id": "a9549d04",
   "metadata": {},
   "outputs": [],
   "source": [
    "# Final risk score\n",
    "risk_df[\"final_risk_score\"] = (\n",
    "    risk_df[\"frequency_score\"] * weights[\"frequency_score\"] +\n",
    "    risk_df[\"context_score\"] * weights[\"context_score\"] +\n",
    "    risk_df[\"goods_score\"] * weights[\"goods_score\"] +\n",
    "    risk_df[\"diversity_score\"] * weights[\"diversity_score\"] +\n",
    "    risk_df[\"sector_score\"] * weights[\"sector_score\"]\n",
    ")"
   ]
  },
  {
   "cell_type": "code",
   "execution_count": 20,
   "id": "4a1bf81a",
   "metadata": {},
   "outputs": [],
   "source": [
    "# Sort\n",
    "risk_df = risk_df.sort_values(\"final_risk_score\", ascending=False).reset_index(drop=True)"
   ]
  },
  {
   "cell_type": "code",
   "execution_count": 21,
   "id": "902a868b",
   "metadata": {},
   "outputs": [
    {
     "data": {
      "image/png": "[encoded data removed]",
      "text/plain": [
       "<Figure size 1200x600 with 1 Axes>"
      ]
     },
     "metadata": {},
     "output_type": "display_data"
    }
   ],
   "source": [
    "# Select the top 15 countries based on final risk score\n",
    "top_risk_df = risk_df.head(15)\n",
    "\n",
    "# Create a horizontal bar chart\n",
    "plt.figure(figsize=(12, 6))\n",
    "plt.barh(top_risk_df[\"country\"], top_risk_df[\"final_risk_score\"], color='darkred')\n",
    "plt.xlabel(\"Final Risk Score\")\n",
    "plt.title(\"Top 15 Countries by Document-Based Child Labour Risk Score\")\n",
    "plt.gca().invert_yaxis()  # Highest risk at the top\n",
    "plt.tight_layout()\n",
    "plt.show()"
   ]
  },
  {
   "cell_type": "code",
   "execution_count": 22,
   "id": "692b66d2",
   "metadata": {},
   "outputs": [],
   "source": [
    "# Export the final country risk index to a CSV file\n",
    "risk_df.to_csv(\"final_country_risk_index.csv\", index=False)"
   ]
  },
  {
   "cell_type": "code",
   "execution_count": 23,
   "id": "156b5e90",
   "metadata": {},
   "outputs": [
    {
     "data": {
      "text/html": [
       "<div>\n",
       "<style scoped>\n",
       "    .dataframe tbody tr th:only-of-type {\n",
       "        vertical-align: middle;\n",
       "    }\n",
       "\n",
       "    .dataframe tbody tr th {\n",
       "        vertical-align: top;\n",
       "    }\n",
       "\n",
       "    .dataframe thead th {\n",
       "        text-align: right;\n",
       "    }\n",
       "</style>\n",
       "<table border=\"1\" class=\"dataframe\">\n",
       "  <thead>\n",
       "    <tr style=\"text-align: right;\">\n",
       "      <th></th>\n",
       "      <th>country</th>\n",
       "      <th>mention_count</th>\n",
       "      <th>frequency_score</th>\n",
       "      <th>context_score</th>\n",
       "      <th>goods_score</th>\n",
       "      <th>diversity_score</th>\n",
       "      <th>sector_score</th>\n",
       "      <th>final_risk_score</th>\n",
       "    </tr>\n",
       "  </thead>\n",
       "  <tbody>\n",
       "    <tr>\n",
       "      <th>0</th>\n",
       "      <td>United States</td>\n",
       "      <td>87</td>\n",
       "      <td>0.820755</td>\n",
       "      <td>0.533333</td>\n",
       "      <td>1.000000</td>\n",
       "      <td>1.000000</td>\n",
       "      <td>0.221154</td>\n",
       "      <td>0.662973</td>\n",
       "    </tr>\n",
       "    <tr>\n",
       "      <th>1</th>\n",
       "      <td>United Kingdom</td>\n",
       "      <td>106</td>\n",
       "      <td>1.000000</td>\n",
       "      <td>0.487736</td>\n",
       "      <td>0.920635</td>\n",
       "      <td>1.000000</td>\n",
       "      <td>0.238400</td>\n",
       "      <td>0.648546</td>\n",
       "    </tr>\n",
       "    <tr>\n",
       "      <th>2</th>\n",
       "      <td>Canada</td>\n",
       "      <td>64</td>\n",
       "      <td>0.603774</td>\n",
       "      <td>0.633846</td>\n",
       "      <td>0.769841</td>\n",
       "      <td>0.933333</td>\n",
       "      <td>0.228571</td>\n",
       "      <td>0.613731</td>\n",
       "    </tr>\n",
       "    <tr>\n",
       "      <th>3</th>\n",
       "      <td>India</td>\n",
       "      <td>49</td>\n",
       "      <td>0.462264</td>\n",
       "      <td>0.600000</td>\n",
       "      <td>0.619048</td>\n",
       "      <td>0.933333</td>\n",
       "      <td>0.209524</td>\n",
       "      <td>0.546226</td>\n",
       "    </tr>\n",
       "    <tr>\n",
       "      <th>4</th>\n",
       "      <td>China</td>\n",
       "      <td>54</td>\n",
       "      <td>0.509434</td>\n",
       "      <td>0.566667</td>\n",
       "      <td>0.579365</td>\n",
       "      <td>0.933333</td>\n",
       "      <td>0.230769</td>\n",
       "      <td>0.533605</td>\n",
       "    </tr>\n",
       "    <tr>\n",
       "      <th>5</th>\n",
       "      <td>Australia</td>\n",
       "      <td>48</td>\n",
       "      <td>0.452830</td>\n",
       "      <td>0.602083</td>\n",
       "      <td>0.531746</td>\n",
       "      <td>0.933333</td>\n",
       "      <td>0.237288</td>\n",
       "      <td>0.529740</td>\n",
       "    </tr>\n",
       "    <tr>\n",
       "      <th>6</th>\n",
       "      <td>France</td>\n",
       "      <td>37</td>\n",
       "      <td>0.349057</td>\n",
       "      <td>0.608108</td>\n",
       "      <td>0.468254</td>\n",
       "      <td>0.933333</td>\n",
       "      <td>0.218182</td>\n",
       "      <td>0.501777</td>\n",
       "    </tr>\n",
       "    <tr>\n",
       "      <th>7</th>\n",
       "      <td>Mexico</td>\n",
       "      <td>33</td>\n",
       "      <td>0.311321</td>\n",
       "      <td>0.669697</td>\n",
       "      <td>0.404762</td>\n",
       "      <td>0.866667</td>\n",
       "      <td>0.222500</td>\n",
       "      <td>0.497883</td>\n",
       "    </tr>\n",
       "    <tr>\n",
       "      <th>8</th>\n",
       "      <td>Ireland</td>\n",
       "      <td>34</td>\n",
       "      <td>0.320755</td>\n",
       "      <td>0.658824</td>\n",
       "      <td>0.365079</td>\n",
       "      <td>0.933333</td>\n",
       "      <td>0.190244</td>\n",
       "      <td>0.485316</td>\n",
       "    </tr>\n",
       "    <tr>\n",
       "      <th>9</th>\n",
       "      <td>Chile</td>\n",
       "      <td>22</td>\n",
       "      <td>0.207547</td>\n",
       "      <td>0.736364</td>\n",
       "      <td>0.325397</td>\n",
       "      <td>0.733333</td>\n",
       "      <td>0.229630</td>\n",
       "      <td>0.479090</td>\n",
       "    </tr>\n",
       "  </tbody>\n",
       "</table>\n",
       "</div>"
      ],
      "text/plain": [
       "          country  mention_count  frequency_score  context_score  goods_score  \\\n",
       "0   United States             87         0.820755       0.533333     1.000000   \n",
       "1  United Kingdom            106         1.000000       0.487736     0.920635   \n",
       "2          Canada             64         0.603774       0.633846     0.769841   \n",
       "3           India             49         0.462264       0.600000     0.619048   \n",
       "4           China             54         0.509434       0.566667     0.579365   \n",
       "5       Australia             48         0.452830       0.602083     0.531746   \n",
       "6          France             37         0.349057       0.608108     0.468254   \n",
       "7          Mexico             33         0.311321       0.669697     0.404762   \n",
       "8         Ireland             34         0.320755       0.658824     0.365079   \n",
       "9           Chile             22         0.207547       0.736364     0.325397   \n",
       "\n",
       "   diversity_score  sector_score  final_risk_score  \n",
       "0         1.000000      0.221154          0.662973  \n",
       "1         1.000000      0.238400          0.648546  \n",
       "2         0.933333      0.228571          0.613731  \n",
       "3         0.933333      0.209524          0.546226  \n",
       "4         0.933333      0.230769          0.533605  \n",
       "5         0.933333      0.237288          0.529740  \n",
       "6         0.933333      0.218182          0.501777  \n",
       "7         0.866667      0.222500          0.497883  \n",
       "8         0.933333      0.190244          0.485316  \n",
       "9         0.733333      0.229630          0.479090  "
      ]
     },
     "execution_count": 23,
     "metadata": {},
     "output_type": "execute_result"
    }
   ],
   "source": [
    "risk_df.head(10)"
   ]
  }
 ],
 "metadata": {
  "kernelspec": {
   "display_name": "Python 3",
   "language": "python",
   "name": "python3"
  },
  "language_info": {
   "codemirror_mode": {
    "name": "ipython",
    "version": 3
   },
   "file_extension": ".py",
   "mimetype": "text/x-python",
   "name": "python",
   "nbconvert_exporter": "python",
   "pygments_lexer": "ipython3",
   "version": "3.13.1"
  }
 },
 "nbformat": 4,
 "nbformat_minor": 5
}
